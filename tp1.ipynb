{
  "nbformat": 4,
  "nbformat_minor": 0,
  "metadata": {
    "colab": {
      "provenance": [],
      "authorship_tag": "ABX9TyNyuUjjUmNqQkslT5P5OG6Q",
      "include_colab_link": true
    },
    "kernelspec": {
      "name": "python3",
      "display_name": "Python 3"
    },
    "language_info": {
      "name": "python"
    }
  },
  "cells": [
    {
      "cell_type": "markdown",
      "metadata": {
        "id": "view-in-github",
        "colab_type": "text"
      },
      "source": [
        "<a href=\"https://colab.research.google.com/github/joaopmo/ml-ufmg/blob/main/tp1.ipynb\" target=\"_parent\"><img src=\"https://colab.research.google.com/assets/colab-badge.svg\" alt=\"Open In Colab\"/></a>"
      ]
    },
    {
      "cell_type": "code",
      "execution_count": null,
      "metadata": {
        "id": "2yAYzRADWDX5"
      },
      "outputs": [],
      "source": [
        "import tensorflow as tf\n",
        "from pathlib import Path\n",
        "import numpy as np"
      ]
    },
    {
      "cell_type": "code",
      "source": [
        "!wget --quiet https://raw.githubusercontent.com/joaopmo/ml-ufmg/main/data_tp1"
      ],
      "metadata": {
        "id": "QTdS5iqLWYrd"
      },
      "execution_count": null,
      "outputs": []
    },
    {
      "cell_type": "code",
      "source": [
        "file_path = str(Path(\"data_tp1\").resolve())"
      ],
      "metadata": {
        "id": "JkU8Jee8oMTD"
      },
      "execution_count": null,
      "outputs": []
    },
    {
      "cell_type": "code",
      "source": [
        "data = np.genfromtxt(file_path, delimiter=\",\", dtype=np.uint8)"
      ],
      "metadata": {
        "id": "UrzBAMCS78Mt"
      },
      "execution_count": null,
      "outputs": []
    },
    {
      "cell_type": "code",
      "source": [
        "labels, images = data[:, :1], data[:, 1:]\n",
        "labels = labels.reshape(5000)\n",
        "images = images.reshape(5000, 28, 28)"
      ],
      "metadata": {
        "id": "krjaUzTl80Mh"
      },
      "execution_count": null,
      "outputs": []
    },
    {
      "cell_type": "code",
      "source": [
        "model = tf.keras.Sequential([\n",
        "    tf.keras.layers.Flatten(input_shape=(28, 28)),\n",
        "    tf.keras.layers.Dense(25, activation='sigmoid'),\n",
        "    tf.keras.layers.Dense(10)\n",
        "])"
      ],
      "metadata": {
        "id": "J7freWMIFT1G"
      },
      "execution_count": null,
      "outputs": []
    },
    {
      "cell_type": "code",
      "source": [
        "model.compile(optimizer=tf.keras.optimizers.SGD(learning_rate=0.5),\n",
        "              loss=tf.keras.losses.SparseCategoricalCrossentropy(from_logits=True),\n",
        "              metrics=[tf.keras.metrics.SparseCategoricalCrossentropy(from_logits=True)])"
      ],
      "metadata": {
        "id": "mXvWLgVFIVqa"
      },
      "execution_count": null,
      "outputs": []
    }
  ]
}